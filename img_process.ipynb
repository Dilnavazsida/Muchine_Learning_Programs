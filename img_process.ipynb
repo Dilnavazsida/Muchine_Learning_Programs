{
 "cells": [
  {
   "cell_type": "code",
   "execution_count": null,
   "id": "70df91bd",
   "metadata": {
    "vscode": {
     "languageId": "plaintext"
    }
   },
   "outputs": [],
   "source": [
    "import matplotlib.pyplot as plt\n",
    "import numpy as np\n",
    "import cv2\n",
    "\n",
    "img = cv2.imread('my_photo.jpg')\n",
    "img = cv2.cvtColor(img,cv2.COLOR_BGR2RGB)\n",
    "k1 = np.once((4,4),np.float32)/16\n",
    "img1 = cv2.\n"
   ]
  }
 ],
 "metadata": {
  "language_info": {
   "name": "python"
  }
 },
 "nbformat": 4,
 "nbformat_minor": 5
}
