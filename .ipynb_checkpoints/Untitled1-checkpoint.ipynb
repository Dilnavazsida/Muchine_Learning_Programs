{
 "cells": [
  {
   "cell_type": "code",
   "execution_count": null,
   "id": "aadb97b6-980f-4677-ad87-9f42f92afe39",
   "metadata": {},
   "outputs": [],
   "source": []
  }
 ],
 "metadata": {
  "kernelspec": {
   "display_name": "",
   "name": ""
  },
  "language_info": {
   "name": ""
  }
 },
 "nbformat": 4,
 "nbformat_minor": 5
}
