{
 "cells": [
  {
   "cell_type": "code",
   "execution_count": null,
   "id": "9ca14752-1c17-4746-871a-bc7d6d313235",
   "metadata": {},
   "outputs": [],
   "source": []
  }
 ],
 "metadata": {
  "kernelspec": {
   "display_name": "",
   "name": ""
  },
  "language_info": {
   "name": ""
  }
 },
 "nbformat": 4,
 "nbformat_minor": 5
}
