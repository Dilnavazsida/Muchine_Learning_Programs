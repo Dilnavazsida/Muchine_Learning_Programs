{
 "cells": [
  {
   "cell_type": "code",
   "execution_count": 11,
   "id": "77908425-d690-4d40-b7ff-24daaacd84c9",
   "metadata": {},
   "outputs": [
    {
     "name": "stdout",
     "output_type": "stream",
     "text": [
      "Porter Stemmer\n",
      "student --> student\n",
      "water --> water\n",
      "studies --> studi\n",
      "studying --> studi\n",
      "happiness --> happi\n",
      "playing --> play\n",
      "played --> play\n",
      "snowwball Stemmer \n",
      "\n",
      "student --> student\n",
      "water --> water\n",
      "studies --> studi\n",
      "studying --> studi\n",
      "happiness --> happi\n",
      "playing --> play\n",
      "played --> play\n",
      " \n",
      " lancaster Stemmer\n",
      "student --> stud\n",
      "water --> wat\n",
      "studies --> study\n",
      "studying --> study\n",
      "happiness --> happy\n",
      "playing --> play\n",
      "played --> play\n"
     ]
    }
   ],
   "source": [
    "#  stemiming all 3 in one \n",
    "\n",
    "from nltk.stem import PorterStemmer,SnowballStemmer,LancasterStemmer \n",
    "# creating the object of the stemmer\n",
    "porter = PorterStemmer()\n",
    "snowball = SnowballStemmer(\"english\")\n",
    "lancaster = LancasterStemmer()\n",
    "# input words\n",
    "words = [\"student\",\"water\",\"studies\",\"studying\",\"happiness\",\"playing\",\"played\"]\n",
    "\n",
    "print(\"Porter Stemmer\")\n",
    "for w in words:\n",
    "    print(w,\"-->\",porter.stem(w))\n",
    "\n",
    "print(\"snowwball Stemmer \\n\")\n",
    "for w in words:\n",
    "    print(w,\"-->\",snowball.stem(w))\n",
    "\n",
    "print(\" \\n lancaster Stemmer\")\n",
    "for w in words:\n",
    "    print(w,\"-->\",lancaster.stem(w))\n"
   ]
  },
  {
   "cell_type": "code",
   "execution_count": null,
   "id": "dfa92874-8d7e-4166-8315-412a20a2281c",
   "metadata": {},
   "outputs": [],
   "source": []
  }
 ],
 "metadata": {
  "kernelspec": {
   "display_name": "Python 3 (ipykernel)",
   "language": "python",
   "name": "python3"
  },
  "language_info": {
   "codemirror_mode": {
    "name": "ipython",
    "version": 3
   },
   "file_extension": ".py",
   "mimetype": "text/x-python",
   "name": "python",
   "nbconvert_exporter": "python",
   "pygments_lexer": "ipython3",
   "version": "3.12.1"
  }
 },
 "nbformat": 4,
 "nbformat_minor": 5
}
