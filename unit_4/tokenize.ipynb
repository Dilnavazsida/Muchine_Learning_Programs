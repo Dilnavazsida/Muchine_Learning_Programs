{
 "cells": [
  {
   "cell_type": "code",
   "execution_count": 3,
   "id": "019ae8bf-e77e-4a99-8ab1-0dfc75d7d28f",
   "metadata": {},
   "outputs": [
    {
     "name": "stderr",
     "output_type": "stream",
     "text": [
      "[nltk_data] Downloading package punkt_tab to\n",
      "[nltk_data]     C:\\Users\\Dell\\AppData\\Roaming\\nltk_data...\n",
      "[nltk_data]   Unzipping tokenizers\\punkt_tab.zip.\n"
     ]
    },
    {
     "data": {
      "text/plain": [
       "True"
      ]
     },
     "execution_count": 3,
     "metadata": {},
     "output_type": "execute_result"
    }
   ],
   "source": [
    "#  unit 4 NLP (Natural Language Processing)\n",
    "\n",
    "import nltk\n",
    "nltk.download('punkt_tab')"
   ]
  },
  {
   "cell_type": "code",
   "execution_count": 4,
   "id": "81b62966-90ca-42f2-9e2b-b14629140129",
   "metadata": {},
   "outputs": [
    {
     "name": "stdout",
     "output_type": "stream",
     "text": [
      "Sentence tokennize  ['i love nlp.', \"it's fun, isn't it?\"]\n"
     ]
    }
   ],
   "source": [
    "# topic => Tokenize\n",
    "\n",
    "# applying sentence tokennize on the text\n",
    "\n",
    "from nltk.tokenize import sent_tokenize as st\n",
    "\n",
    "# input text\n",
    "text = \"i love nlp. it's fun, isn't it?\"\n",
    "# text1 = \"i love nlp. it's fun, isn't it?\"\n",
    "\n",
    "# sentence tokenize\n",
    "tokenized_sentence = st(text)\n",
    "print(\"Sentence tokennize \",tokenized_sentence)"
   ]
  },
  {
   "cell_type": "code",
   "execution_count": 5,
   "id": "8f7fc03a-7fd7-421a-9db3-f51c4b246fe1",
   "metadata": {},
   "outputs": [
    {
     "name": "stdout",
     "output_type": "stream",
     "text": [
      "['i', 'love', 'nlp', '.', 'int', \"'s\", 'fun', ',', 'is', \"n't\", 'it']\n"
     ]
    }
   ],
   "source": [
    "#  Applying the word tokenization on the text\n",
    "\n",
    "from nltk.tokenize import word_tokenize as wt\n",
    "\n",
    "#  input text\n",
    "text = \"i love nlp . int's fun, isn't it\"\n",
    "#  word tokennoze\n",
    "\n",
    "word_tokenize = wt(text)\n",
    "print(word_tokenize)"
   ]
  },
  {
   "cell_type": "code",
   "execution_count": 6,
   "id": "66f3b260-1fb2-4544-a3ae-4f0c2a773452",
   "metadata": {},
   "outputs": [
    {
     "name": "stdout",
     "output_type": "stream",
     "text": [
      "['i', 'love', 'nlp', '.', 'int', \"'\", 's', 'fun', ',', 'isn', \"'\", 't', 'it']\n"
     ]
    }
   ],
   "source": [
    "# applying the word punctions tokenization on the text\n",
    "\n",
    "from nltk.tokenize import wordpunct_tokenize as wp_t\n",
    "\n",
    "text = \"i love nlp . int's fun, isn't it\"\n",
    "\n",
    "wordpunct_tokenize = wp_t(text)\n",
    "print(wordpunct_tokenize)"
   ]
  },
  {
   "cell_type": "code",
   "execution_count": null,
   "id": "7273e3df-ca4e-4763-a124-a9019ef6f6f5",
   "metadata": {},
   "outputs": [],
   "source": []
  }
 ],
 "metadata": {
  "kernelspec": {
   "display_name": "Python 3 (ipykernel)",
   "language": "python",
   "name": "python3"
  },
  "language_info": {
   "codemirror_mode": {
    "name": "ipython",
    "version": 3
   },
   "file_extension": ".py",
   "mimetype": "text/x-python",
   "name": "python",
   "nbconvert_exporter": "python",
   "pygments_lexer": "ipython3",
   "version": "3.12.1"
  }
 },
 "nbformat": 4,
 "nbformat_minor": 5
}
